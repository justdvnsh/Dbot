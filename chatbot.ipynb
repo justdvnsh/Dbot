{
  "cells": [
    {
      "metadata": {
        "_uuid": "8f2839f25d086af736a60e9eeb907d3b93b6e0e5",
        "_cell_guid": "b1076dfc-b9ad-4769-8c92-a6c4dae69d19",
        "trusted": true
      },
      "cell_type": "code",
      "source": "# This Python 3 environment comes with many helpful analytics libraries installed\n# It is defined by the kaggle/python docker image: https://github.com/kaggle/docker-python\n# For example, here's several helpful packages to load in \n\nimport numpy as np # linear algebra\nimport pandas as pd # data processing, CSV file I/O (e.g. pd.read_csv)\n\n# Input data files are available in the \"../input/\" directory.\n# For example, running this (by clicking run or pressing Shift+Enter) will list the files in the input directory\n\nimport os\nprint(os.listdir(\"../input\"))\nimport tensorflow as tf\ntf.enable_eager_execution()\nimport time\nimport re\nimport string\n\n# Any results you write to the current directory are saved as output.",
      "execution_count": 1,
      "outputs": [
        {
          "output_type": "stream",
          "text": "['movie_lines.txt', 'movie_conversations.txt']\n",
          "name": "stdout"
        }
      ]
    },
    {
      "metadata": {
        "_cell_guid": "79c7e3d0-c299-4dcb-8224-4455121ee9b0",
        "_uuid": "d629ff2d2480ee46fbb7e2d37f6b5fab8052498a",
        "trusted": true
      },
      "cell_type": "code",
      "source": "lines = open('../input/movie_lines.txt', encoding = 'utf-8', errors='ignore').read().split('\\n')\nconversations = open('../input/movie_conversations.txt', encoding = 'utf-8', errors='ignore').read().split('\\n')",
      "execution_count": 2,
      "outputs": []
    },
    {
      "metadata": {
        "trusted": true,
        "_uuid": "b1a8017fc7afed5c9c4219052e75259d079986c4"
      },
      "cell_type": "code",
      "source": "def preprocess_sentence(w):\n    w = w.lower().strip()\n    \n    # creating a space between a word and the punctuation following it\n    # eg: \"he is a boy.\" => \"he is a boy .\" \n    # Reference:- https://stackoverflow.com/questions/3645931/python-padding-punctuation-with-white-spaces-keeping-punctuation\n    w = re.sub(r\"([?.!,¿])\", r\" \\1 \", w)\n    w = re.sub(r'[\" \"]+', \" \", w)\n    \n    # replacing everything with space except (a-z, A-Z, \".\", \"?\", \"!\", \",\")\n    w = re.sub(r\"[^a-zA-Z?.!,¿]+\", \" \", w)\n    \n    w = w.rstrip().strip()\n    \n    # adding a start and an end token to the sentence\n    # so that the model know when to start and stop predicting.\n    w = '<start> ' + w + ' <end>'\n    return w",
      "execution_count": 3,
      "outputs": []
    },
    {
      "metadata": {
        "trusted": true,
        "_uuid": "48e95c09edae4568b70df1f592a81aa4c11624a2"
      },
      "cell_type": "code",
      "source": "# A Dictionary that maps each line and its id\nid2lines = {}\nfor line in lines:\n    _line = line.split(' +++$+++ ')\n    ## We only keep the lines that have the lenght of 5 elements , which in this case is almost all the lines.\n    if len(_line) == 5:\n        id2lines[_line[0]] = _line[4]\n        \n# A List that maps all the conversations , that is the questions and the answers.\nconversation_ids = [] \nfor conversation in conversations[:-1]:\n    _conversation = conversation.split(' +++$+++ ')[-1][1:-1].replace(\"'\", \"\").replace(\" \", \"\")\n    conversation_ids.append(_conversation.split(','))\n    \n# Getting the questions and answers -> The first element in the conversation_ids is the question and the next element is the answer. \nquestions = []\nanswers = [] \nfor conversation in conversation_ids:\n    for i in range(len(conversation) - 1):\n        questions.append(id2lines[conversation[i]])\n        answers.append(id2lines[conversation[i+1]])         \n        \n# Cleaning the questions and answers\nclean_questions = [preprocess_sentence(question) for question in questions]\nclean_answer = [preprocess_sentence(answer) for answer in answers]\n",
      "execution_count": 4,
      "outputs": []
    },
    {
      "metadata": {
        "trusted": true,
        "_uuid": "9b5228d2320c7aad0a263e69d80c05882e205aa1"
      },
      "cell_type": "code",
      "source": "# 1. Remove the accents\n# 2. Clean the sentences\n# 3. Return word pairs in the format: [ENGLISH, SPANISH]\ndef create_dataset():    \n    word_pairs = [[question, answer]  for question, answer in zip(clean_questions, clean_answer)]\n    return word_pairs[:1000]",
      "execution_count": 78,
      "outputs": []
    },
    {
      "metadata": {
        "trusted": true,
        "_uuid": "e3eefdfd9f83a4835621a14e1c5308c7dbdf9dfc"
      },
      "cell_type": "code",
      "source": "# This class creates a word -> index mapping (e.g,. \"dad\" -> 5) and vice-versa \n# (e.g., 5 -> \"dad\") for each language,\nclass LanguageIndex():\n  def __init__(self, lang):\n    self.lang = lang\n    self.word2idx = {}\n    self.idx2word = {}\n    self.vocab = set()\n    \n    self.create_index()\n    \n  def create_index(self):\n    for phrase in self.lang:\n      self.vocab.update(phrase.split(' '))\n    \n    self.vocab = sorted(self.vocab)\n    \n    self.word2idx['<pad>'] = 0\n    for index, word in enumerate(self.vocab):\n      self.word2idx[word] = index + 1\n    \n    for word, index in self.word2idx.items():\n      self.idx2word[index] = word",
      "execution_count": 79,
      "outputs": []
    },
    {
      "metadata": {
        "trusted": true,
        "_uuid": "9e89e04ca6feaed27ebe3ea4c1f2e809c99cfa31"
      },
      "cell_type": "code",
      "source": "def max_length(tensor):\n    return max(len(t) for t in tensor)\n\n\ndef load_dataset():\n    # creating cleaned input, output pairs\n    pairs = create_dataset()\n\n    # index language using the class defined above    \n    inp_lang = LanguageIndex(questions for questions, answers in pairs)\n    targ_lang = LanguageIndex(answers for questions, answers in pairs)\n    \n    # Vectorize the input and target languages\n    \n    # Spanish sentences\n    input_tensor = [[inp_lang.word2idx[s] for s in questions.split(' ')] for questions, answers in pairs]\n    \n    # English sentences\n    target_tensor = [[targ_lang.word2idx[s] for s in answers.split(' ')] for questions, answers in pairs]\n    \n    # Calculate max_length of input and output tensor\n    # Here, we'll set those to the longest sentence in the dataset\n    max_length_inp, max_length_tar = max_length(input_tensor), max_length(target_tensor)\n    \n    # Padding the input and output tensor to the maximum length\n    input_tensor = tf.keras.preprocessing.sequence.pad_sequences(input_tensor, \n                                                                 maxlen=max_length_inp,\n                                                                 padding='post')\n    \n    target_tensor = tf.keras.preprocessing.sequence.pad_sequences(target_tensor, \n                                                                  maxlen=max_length_tar, \n                                                                  padding='post')\n    \n    return input_tensor, target_tensor, inp_lang, targ_lang, max_length_inp, max_length_tar",
      "execution_count": 80,
      "outputs": []
    },
    {
      "metadata": {
        "trusted": true,
        "_uuid": "0f16407c5e5e51c90805531e369837d2b4e9bf40"
      },
      "cell_type": "code",
      "source": "input_tensor, target_tensor, inp_lang, targ_lang, max_length_inp, max_length_targ = load_dataset()",
      "execution_count": 81,
      "outputs": []
    },
    {
      "metadata": {
        "trusted": true,
        "_uuid": "d29010736100d51ed56319ad7279210845d446fc"
      },
      "cell_type": "code",
      "source": "input_tensor",
      "execution_count": 82,
      "outputs": [
        {
          "output_type": "execute_result",
          "execution_count": 82,
          "data": {
            "text/plain": "array([[   5,  232, 1715, ...,    0,    0,    0],\n       [   5, 1721,    2, ...,    0,    0,    0],\n       [   5, 1052, 1559, ...,    0,    0,    0],\n       ...,\n       [   5,  435, 1518, ...,    0,    0,    0],\n       [   5, 1743,    6, ...,    0,    0,    0],\n       [   5,  906,    3, ...,    0,    0,    0]], dtype=int32)"
          },
          "metadata": {}
        }
      ]
    },
    {
      "metadata": {
        "trusted": true,
        "_uuid": "6053e6f879f26d5e2d7e2f8a24c79bf548d598f8"
      },
      "cell_type": "code",
      "source": "input_tensor.shape",
      "execution_count": 83,
      "outputs": [
        {
          "output_type": "execute_result",
          "execution_count": 83,
          "data": {
            "text/plain": "(1000, 119)"
          },
          "metadata": {}
        }
      ]
    },
    {
      "metadata": {
        "trusted": true,
        "_uuid": "3c1c14ac4620cd0c2ac55f7b5739eec43a8903f1"
      },
      "cell_type": "code",
      "source": "max_length_inp",
      "execution_count": 84,
      "outputs": [
        {
          "output_type": "execute_result",
          "execution_count": 84,
          "data": {
            "text/plain": "119"
          },
          "metadata": {}
        }
      ]
    },
    {
      "metadata": {
        "trusted": true,
        "_uuid": "c634d770c8609863e0272226c8d41cc978b890a7"
      },
      "cell_type": "code",
      "source": "max_length_targ",
      "execution_count": 85,
      "outputs": [
        {
          "output_type": "execute_result",
          "execution_count": 85,
          "data": {
            "text/plain": "147"
          },
          "metadata": {}
        }
      ]
    },
    {
      "metadata": {
        "trusted": true,
        "_uuid": "e3130772fd9a5f8bcc9648e672389bd8c3e676e9"
      },
      "cell_type": "code",
      "source": "from sklearn.model_selection import train_test_split\n\ninput_tensor_train, input_tensor_val, target_tensor_train, target_tensor_val = train_test_split(input_tensor, target_tensor, test_size=0.2)\n\n# Show length\nlen(input_tensor_train), len(target_tensor_train), len(input_tensor_val), len(target_tensor_val)",
      "execution_count": 86,
      "outputs": [
        {
          "output_type": "execute_result",
          "execution_count": 86,
          "data": {
            "text/plain": "(800, 800, 200, 200)"
          },
          "metadata": {}
        }
      ]
    },
    {
      "metadata": {
        "trusted": true,
        "_uuid": "d4be4d84889d66777956e545e8a14525afc91386"
      },
      "cell_type": "code",
      "source": "config = tf.ConfigProto(allow_soft_placement=True)\nconfig.gpu_options.allocator_type = 'BFC'\nconfig.gpu_options.per_process_gpu_memory_fraction = 0.80\n\nBUFFER_SIZE = len(input_tensor_train)\nBATCH_SIZE = 8\nN_BATCH = BUFFER_SIZE//BATCH_SIZE\nembedding_dim = 256\nunits = 256\nvocab_inp_size = len(inp_lang.word2idx)\nvocab_tar_size = len(targ_lang.word2idx)\n\ndataset = tf.data.Dataset.from_tensor_slices((input_tensor_train, target_tensor_train)).shuffle(BUFFER_SIZE)\ndataset = dataset.batch(BATCH_SIZE, drop_remainder=True)",
      "execution_count": 88,
      "outputs": []
    },
    {
      "metadata": {
        "trusted": true,
        "_uuid": "6e0bf44a56cf39e2cb152c37d2389dfd31ef78a1"
      },
      "cell_type": "code",
      "source": "def gru(units):\n  # If you have a GPU, we recommend using CuDNNGRU(provides a 3x speedup than GRU)\n  # the code automatically does that.\n  if tf.test.is_gpu_available():\n    return tf.keras.layers.CuDNNGRU(units, \n                                    return_sequences=True, \n                                    return_state=True, \n                                    recurrent_initializer='glorot_uniform')\n  else:\n    return tf.keras.layers.GRU(units, \n                               return_sequences=True, \n                               return_state=True, \n                               recurrent_activation='sigmoid', \n                               recurrent_initializer='glorot_uniform')",
      "execution_count": 89,
      "outputs": []
    },
    {
      "metadata": {
        "trusted": true,
        "_uuid": "0830b9e08e49bd79741063314eb95dd7198692ba"
      },
      "cell_type": "code",
      "source": "\nclass Encoder(tf.keras.Model):\n    def __init__(self, vocab_size, embedding_dim, enc_units, batch_sz):\n        super(Encoder, self).__init__()\n        self.batch_sz = batch_sz\n        self.enc_units = enc_units\n        self.embedding = tf.keras.layers.Embedding(vocab_size, embedding_dim)\n        self.gru = gru(self.enc_units)\n        \n    def call(self, x, hidden):\n        x = self.embedding(x)\n        output, state = self.gru(x, initial_state = hidden)        \n        return output, state\n    \n    def initialize_hidden_state(self):\n        return tf.zeros((self.batch_sz, self.enc_units))",
      "execution_count": 90,
      "outputs": []
    },
    {
      "metadata": {
        "trusted": true,
        "_uuid": "3a4d1adf3e3a0bff7699dfd489a4e198b9add86e"
      },
      "cell_type": "code",
      "source": "class Decoder(tf.keras.Model):\n    def __init__(self, vocab_size, embedding_dim, dec_units, batch_sz):\n        super(Decoder, self).__init__()\n        self.batch_sz = batch_sz\n        self.dec_units = dec_units\n        self.embedding = tf.keras.layers.Embedding(vocab_size, embedding_dim)\n        self.gru = gru(self.dec_units)\n        self.fc = tf.keras.layers.Dense(vocab_size)\n        \n        # used for attention\n        self.W1 = tf.keras.layers.Dense(self.dec_units)\n        self.W2 = tf.keras.layers.Dense(self.dec_units)\n        self.V = tf.keras.layers.Dense(1)\n        \n    def call(self, x, hidden, enc_output):\n        # enc_output shape == (batch_size, max_length, hidden_size)\n        \n        # hidden shape == (batch_size, hidden size)\n        # hidden_with_time_axis shape == (batch_size, 1, hidden size)\n        # we are doing this to perform addition to calculate the score\n        hidden_with_time_axis = tf.expand_dims(hidden, 1)\n        \n        # score shape == (batch_size, max_length, hidden_size)\n        score = tf.nn.tanh(self.W1(enc_output) + self.W2(hidden_with_time_axis))\n        \n        # attention_weights shape == (batch_size, max_length, 1)\n        # we get 1 at the last axis because we are applying score to self.V\n        attention_weights = tf.nn.softmax(self.V(score), axis=1)\n        \n        # context_vector shape after sum == (batch_size, hidden_size)\n        context_vector = attention_weights * enc_output\n        context_vector = tf.reduce_sum(context_vector, axis=1)\n        \n        # x shape after passing through embedding == (batch_size, 1, embedding_dim)\n        x = self.embedding(x)\n        \n        # x shape after concatenation == (batch_size, 1, embedding_dim + hidden_size)\n        x = tf.concat([tf.expand_dims(context_vector, 1), x], axis=-1)\n        \n        # passing the concatenated vector to the GRU\n        output, state = self.gru(x)\n        \n        # output shape == (batch_size * 1, hidden_size)\n        output = tf.reshape(output, (-1, output.shape[2]))\n        \n        # output shape == (batch_size * 1, vocab)\n        x = self.fc(output)\n        \n        return x, state, attention_weights\n        \n    def initialize_hidden_state(self):\n        return tf.zeros((self.batch_sz, self.dec_units))",
      "execution_count": 91,
      "outputs": []
    },
    {
      "metadata": {
        "trusted": true,
        "_uuid": "312dbb24f8832a2102753304d490f75a8b4353ca"
      },
      "cell_type": "code",
      "source": "encoder = Encoder(vocab_inp_size, embedding_dim, units, BATCH_SIZE)\ndecoder = Decoder(vocab_tar_size, embedding_dim, units, BATCH_SIZE)",
      "execution_count": 92,
      "outputs": []
    },
    {
      "metadata": {
        "trusted": true,
        "_uuid": "de92897204b23ea8481bbbe6e535568e0f40d073"
      },
      "cell_type": "code",
      "source": "optimizer = tf.train.AdamOptimizer()\n\n\ndef loss_function(real, pred):\n  mask = 1 - np.equal(real, 0)\n  loss_ = tf.nn.sparse_softmax_cross_entropy_with_logits(labels=real, logits=pred) * mask\n  return tf.reduce_mean(loss_)",
      "execution_count": 93,
      "outputs": []
    },
    {
      "metadata": {
        "trusted": true,
        "_uuid": "5f07c8075f53c4902c438e7de722e6f1bb944a52"
      },
      "cell_type": "code",
      "source": "import os\ncheckpoint_dir = './training_checkpoints'\ncheckpoint_prefix = os.path.join(checkpoint_dir, \"ckpt\")\ncheckpoint = tf.train.Checkpoint(optimizer=optimizer,\n                                 encoder=encoder,\n                                 decoder=decoder)",
      "execution_count": 94,
      "outputs": []
    },
    {
      "metadata": {
        "trusted": true,
        "_uuid": "b67eb723bb182d1ef121528e1d2451ca06471c0a"
      },
      "cell_type": "code",
      "source": "EPOCHS = 10\n\nfor epoch in range(EPOCHS):\n    start = time.time()\n    \n    hidden = encoder.initialize_hidden_state()\n    total_loss = 0\n    \n    for (batch, (inp, targ)) in enumerate(dataset):\n        loss = 0\n        \n        with tf.GradientTape() as tape:\n            enc_output, enc_hidden = encoder(inp, hidden)\n            \n            dec_hidden = enc_hidden\n            \n            dec_input = tf.expand_dims([targ_lang.word2idx['<start>']] * BATCH_SIZE, 1)       \n            \n            # Teacher forcing - feeding the target as the next input\n            for t in range(1, targ.shape[1]):\n                # passing enc_output to the decoder\n                predictions, dec_hidden, _ = decoder(dec_input, dec_hidden, enc_output)\n                \n                loss += loss_function(targ[:, t], predictions)\n                \n                # using teacher forcing\n                dec_input = tf.expand_dims(targ[:, t], 1)\n        \n        batch_loss = (loss / int(targ.shape[1]))\n        \n        total_loss += batch_loss\n        \n        variables = encoder.variables + decoder.variables\n        \n        gradients = tape.gradient(loss, variables)\n        \n        optimizer.apply_gradients(zip(gradients, variables))\n        \n        if batch % 100 == 0:\n            print('Epoch {} Batch {} Loss {:.4f}'.format(epoch + 1,\n                                                         batch,\n                                                         batch_loss.numpy()))\n    # saving (checkpoint) the model every 2 epochs\n    if (epoch + 1) % 2 == 0:\n      checkpoint.save(file_prefix = checkpoint_prefix)\n    \n    print('Epoch {} Loss {:.4f}'.format(epoch + 1,\n                                        total_loss / N_BATCH))\n    print('Time taken for 1 epoch {} sec\\n'.format(time.time() - start))",
      "execution_count": 96,
      "outputs": [
        {
          "output_type": "stream",
          "text": "Epoch 1 Batch 0 Loss 0.5076\nEpoch 1 Loss 0.4523\nTime taken for 1 epoch 285.9966642856598 sec\n\nEpoch 2 Batch 0 Loss 0.2566\nEpoch 2 Loss 0.4324\nTime taken for 1 epoch 285.82862734794617 sec\n\nEpoch 3 Batch 0 Loss 0.4060\nEpoch 3 Loss 0.4124\nTime taken for 1 epoch 286.3319113254547 sec\n\nEpoch 4 Batch 0 Loss 0.3493\nEpoch 4 Loss 0.3967\nTime taken for 1 epoch 287.2887237071991 sec\n\nEpoch 5 Batch 0 Loss 0.2826\nEpoch 5 Loss 0.3835\nTime taken for 1 epoch 286.78786611557007 sec\n\nEpoch 6 Batch 0 Loss 0.2213\nEpoch 6 Loss 0.3705\nTime taken for 1 epoch 285.91529536247253 sec\n\nEpoch 7 Batch 0 Loss 0.3795\nEpoch 7 Loss 0.3582\nTime taken for 1 epoch 285.344614982605 sec\n\nEpoch 8 Batch 0 Loss 0.2791\nEpoch 8 Loss 0.3469\nTime taken for 1 epoch 284.7535762786865 sec\n\nEpoch 9 Batch 0 Loss 0.2640\nEpoch 9 Loss 0.3351\nTime taken for 1 epoch 284.0793581008911 sec\n\nEpoch 10 Batch 0 Loss 0.3978\nEpoch 10 Loss 0.3233\nTime taken for 1 epoch 283.53520011901855 sec\n\n",
          "name": "stdout"
        }
      ]
    },
    {
      "metadata": {
        "trusted": true,
        "_uuid": "53d220798114d154d7f9841dae1e6f763563a09e"
      },
      "cell_type": "code",
      "source": "def evaluate(sentence, encoder, decoder, inp_lang, targ_lang, max_length_inp, max_length_targ):\n    attention_plot = np.zeros((max_length_targ, max_length_inp))\n    \n    sentence = preprocess_sentence(sentence)\n\n    inputs = [inp_lang.word2idx[i] for i in sentence.split(' ')]\n    inputs = tf.keras.preprocessing.sequence.pad_sequences([inputs], maxlen=max_length_inp, padding='post')\n    inputs = tf.convert_to_tensor(inputs)\n    \n    result = ''\n\n    hidden = [tf.zeros((1, units))]\n    enc_out, enc_hidden = encoder(inputs, hidden)\n\n    dec_hidden = enc_hidden\n    dec_input = tf.expand_dims([targ_lang.word2idx['<start>']], 0)\n\n    for t in range(max_length_targ):\n        predictions, dec_hidden, attention_weights = decoder(dec_input, dec_hidden, enc_out)\n        \n        # storing the attention weigths to plot later on\n        attention_weights = tf.reshape(attention_weights, (-1, ))\n        attention_plot[t] = attention_weights.numpy()\n\n        predicted_id = tf.multinomial(predictions, num_samples=1)[0][0].numpy()\n\n        result += targ_lang.idx2word[predicted_id] + ' '\n\n        if targ_lang.idx2word[predicted_id] == '<end>':\n            return result, sentence, attention_plot\n        \n        # the predicted ID is fed back into the model\n        dec_input = tf.expand_dims([predicted_id], 0)\n\n    return result, sentence, attention_plot",
      "execution_count": 97,
      "outputs": []
    },
    {
      "metadata": {
        "trusted": true,
        "_uuid": "8ca2361ded9b821a54ec1bf2c94d0fd2d5c34d6a"
      },
      "cell_type": "code",
      "source": "def answer(sentence, encoder, decoder, inp_lang, targ_lang, max_length_inp, max_length_targ):\n    result, sentence, attention_plot = evaluate(sentence, encoder, decoder, inp_lang, targ_lang, max_length_inp, max_length_targ)\n        \n    #rint('Input: {}'.format(sentence))\n    #rint(': {}'.format(result))\n    \n    #ttention_plot = attention_plot[:len(result.split(' ')), :len(sentence.split(' '))]\n    #lot_attention(attention_plot, sentence.split(' '), result.split(' '))\n    return result",
      "execution_count": 98,
      "outputs": []
    },
    {
      "metadata": {
        "trusted": true,
        "_uuid": "7ad7b41d8ca53fe3bc2a95189a14e7b0d82188ee"
      },
      "cell_type": "code",
      "source": "while True:\n    question = input(\"You: \")\n    if question.lower() == 'goodbye':\n        break\n    else:\n        result = answer(question, \n                        encoder, \n                        decoder, \n                        inp_lang, \n                        targ_lang, \n                        max_length_inp, \n                        max_length_targ)  \n    print('Chatbot: ', result)",
      "execution_count": 100,
      "outputs": [
        {
          "output_type": "stream",
          "name": "stdout",
          "text": "You: how are you?\nChatbot:  it doesn t tell me about back i was it back when it . <end> \nYou: what's your name again ?\nChatbot:  okay . what just worlds n . . . maybe you know you are eddie . <end> \nYou: okay, so you are eddie\nChatbot:  oh , eddie . <end> \nYou: hi\nChatbot:  tamina could know ! i supposed to doin me done , sweetheart ? <end> \nYou: is your name cameron ?\nChatbot:  i ride for , just for your son , we questioned you wanna have , tabloids chosen for a good . like his get . i used out with me wrong . not s a hell , too . and by your america . <end> \nYou: how do you get your hair to look like that ?\nChatbot:  again . <end> \nYou: yes\nChatbot:  does . rights stupid ways run sinned . <end> \nYou: how do you get your hair like that ?\nChatbot:  william son . i thought <end> \nYou: goodbye\n"
        }
      ]
    },
    {
      "metadata": {
        "trusted": true,
        "_uuid": "acec09323481579c3563587503f6a08fef3e9556"
      },
      "cell_type": "code",
      "source": "",
      "execution_count": null,
      "outputs": []
    }
  ],
  "metadata": {
    "kernelspec": {
      "display_name": "Python 3",
      "language": "python",
      "name": "python3"
    },
    "language_info": {
      "name": "python",
      "version": "3.6.6",
      "mimetype": "text/x-python",
      "codemirror_mode": {
        "name": "ipython",
        "version": 3
      },
      "pygments_lexer": "ipython3",
      "nbconvert_exporter": "python",
      "file_extension": ".py"
    }
  },
  "nbformat": 4,
  "nbformat_minor": 1
}